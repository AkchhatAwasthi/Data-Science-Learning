{
 "cells": [
  {
   "cell_type": "code",
   "execution_count": 1,
   "id": "1550acd7-9707-432e-8a89-7141a0f7b50c",
   "metadata": {},
   "outputs": [],
   "source": [
    "import pandas as pd\n",
    "import numpy as np"
   ]
  },
  {
   "cell_type": "code",
   "execution_count": 2,
   "id": "91d95ec2-c9a7-4b33-bfd1-c5f04f511ac6",
   "metadata": {},
   "outputs": [],
   "source": [
    "a=pd.Series([1,2,3.5,4,5,6,7,8,9,10]) #series is pandas list"
   ]
  },
  {
   "cell_type": "code",
   "execution_count": 3,
   "id": "02d4e762-3d65-4477-b7ad-e5adc783126a",
   "metadata": {},
   "outputs": [],
   "source": [
    "a.index=['a','b','c','d','e','f',0,'h','i','j']"
   ]
  },
  {
   "cell_type": "code",
   "execution_count": 4,
   "id": "fe137898-4a98-4b4a-87cb-0f6282792aff",
   "metadata": {},
   "outputs": [
    {
     "data": {
      "text/plain": [
       "a     1.0\n",
       "b     2.0\n",
       "c     3.5\n",
       "d     4.0\n",
       "e     5.0\n",
       "f     6.0\n",
       "0     7.0\n",
       "h     8.0\n",
       "i     9.0\n",
       "j    10.0\n",
       "dtype: float64"
      ]
     },
     "execution_count": 4,
     "metadata": {},
     "output_type": "execute_result"
    }
   ],
   "source": [
    "a"
   ]
  },
  {
   "cell_type": "code",
   "execution_count": 5,
   "id": "18d4accf-5dd1-4384-b6aa-382558fd0c72",
   "metadata": {},
   "outputs": [
    {
     "data": {
      "text/plain": [
       "np.float64(3.5)"
      ]
     },
     "execution_count": 5,
     "metadata": {},
     "output_type": "execute_result"
    }
   ],
   "source": [
    "a['c']"
   ]
  },
  {
   "cell_type": "code",
   "execution_count": 6,
   "id": "b616ed57-7a37-490a-87b5-d1c4471eb5ea",
   "metadata": {},
   "outputs": [
    {
     "data": {
      "text/plain": [
       "np.float64(1.0)"
      ]
     },
     "execution_count": 6,
     "metadata": {},
     "output_type": "execute_result"
    }
   ],
   "source": [
    "a.iloc[0] #use iloc to get data by number index"
   ]
  },
  {
   "cell_type": "code",
   "execution_count": 10,
   "id": "6f2835c4-fd72-4212-a441-71e60025f6e5",
   "metadata": {},
   "outputs": [
    {
     "data": {
      "text/plain": [
       "b    2.0\n",
       "a    1.0\n",
       "dtype: float64"
      ]
     },
     "execution_count": 10,
     "metadata": {},
     "output_type": "execute_result"
    }
   ],
   "source": [
    "a.iloc[[1,0]]"
   ]
  },
  {
   "cell_type": "markdown",
   "id": "dd346d92-b350-4779-8e30-c16367940fa7",
   "metadata": {},
   "source": [
    "**boolean series"
   ]
  },
  {
   "cell_type": "code",
   "execution_count": 12,
   "id": "770704ce-f9ec-4749-895a-3497873c54cb",
   "metadata": {},
   "outputs": [
    {
     "data": {
      "text/plain": [
       "a    False\n",
       "b    False\n",
       "c    False\n",
       "d    False\n",
       "e    False\n",
       "f    False\n",
       "0     True\n",
       "h     True\n",
       "i     True\n",
       "j     True\n",
       "dtype: bool"
      ]
     },
     "execution_count": 12,
     "metadata": {},
     "output_type": "execute_result"
    }
   ],
   "source": [
    "a>=7"
   ]
  },
  {
   "cell_type": "code",
   "execution_count": 13,
   "id": "bd151a36-f998-4bb4-9a98-97face3d1040",
   "metadata": {},
   "outputs": [
    {
     "data": {
      "text/plain": [
       "h     8.0\n",
       "i     9.0\n",
       "j    10.0\n",
       "dtype: float64"
      ]
     },
     "execution_count": 13,
     "metadata": {},
     "output_type": "execute_result"
    }
   ],
   "source": [
    "a[a>7]"
   ]
  },
  {
   "cell_type": "code",
   "execution_count": 14,
   "id": "e549a469-a1c4-4db5-ac0a-c6a94af9d75f",
   "metadata": {},
   "outputs": [
    {
     "data": {
      "text/plain": [
       "a     1.0\n",
       "b     2.0\n",
       "c     3.5\n",
       "d     4.0\n",
       "e     5.0\n",
       "f     6.0\n",
       "0     7.0\n",
       "h     8.0\n",
       "i     9.0\n",
       "j    10.0\n",
       "dtype: float64"
      ]
     },
     "execution_count": 14,
     "metadata": {},
     "output_type": "execute_result"
    }
   ],
   "source": [
    "a"
   ]
  },
  {
   "cell_type": "code",
   "execution_count": 22,
   "id": "a98d736e-0688-47bb-87a0-c1ad792f6f1d",
   "metadata": {},
   "outputs": [
    {
     "data": {
      "text/plain": [
       "d     4.0\n",
       "f     6.0\n",
       "h     8.0\n",
       "j    10.0\n",
       "dtype: float64"
      ]
     },
     "execution_count": 22,
     "metadata": {},
     "output_type": "execute_result"
    }
   ],
   "source": [
    "a[(a%2==0) & (a>2)]"
   ]
  },
  {
   "cell_type": "code",
   "execution_count": 24,
   "id": "073d2315-a80d-4ddb-8711-7d260204fb27",
   "metadata": {},
   "outputs": [
    {
     "data": {
      "text/plain": [
       "np.float64(55.5)"
      ]
     },
     "execution_count": 24,
     "metadata": {},
     "output_type": "execute_result"
    }
   ],
   "source": [
    "a.sum()"
   ]
  },
  {
   "cell_type": "code",
   "execution_count": 25,
   "id": "d8f785d0-76da-4145-94bc-9c24d8eb2d65",
   "metadata": {},
   "outputs": [],
   "source": [
    "a['a']=78"
   ]
  },
  {
   "cell_type": "code",
   "execution_count": 26,
   "id": "44e4771f-7a4f-4469-b5a6-9dca53cadae5",
   "metadata": {},
   "outputs": [
    {
     "data": {
      "text/plain": [
       "a    78.0\n",
       "b     2.0\n",
       "c     3.5\n",
       "d     4.0\n",
       "e     5.0\n",
       "f     6.0\n",
       "0     7.0\n",
       "h     8.0\n",
       "i     9.0\n",
       "j    10.0\n",
       "dtype: float64"
      ]
     },
     "execution_count": 26,
     "metadata": {},
     "output_type": "execute_result"
    }
   ],
   "source": [
    "a"
   ]
  },
  {
   "cell_type": "code",
   "execution_count": 27,
   "id": "428788ce-ae1f-404e-9e71-baca36c86a01",
   "metadata": {},
   "outputs": [],
   "source": [
    "a.iloc[-1]=25"
   ]
  },
  {
   "cell_type": "code",
   "execution_count": 28,
   "id": "f1f88747-1cde-4e58-9ccb-7470254485c8",
   "metadata": {},
   "outputs": [
    {
     "data": {
      "text/plain": [
       "a    78.0\n",
       "b     2.0\n",
       "c     3.5\n",
       "d     4.0\n",
       "e     5.0\n",
       "f     6.0\n",
       "0     7.0\n",
       "h     8.0\n",
       "i     9.0\n",
       "j    25.0\n",
       "dtype: float64"
      ]
     },
     "execution_count": 28,
     "metadata": {},
     "output_type": "execute_result"
    }
   ],
   "source": [
    "a"
   ]
  },
  {
   "cell_type": "code",
   "execution_count": null,
   "id": "de87c2f4-2556-4a43-819b-5895e0d4a1da",
   "metadata": {},
   "outputs": [],
   "source": []
  }
 ],
 "metadata": {
  "kernelspec": {
   "display_name": "Python 3 (ipykernel)",
   "language": "python",
   "name": "python3"
  },
  "language_info": {
   "codemirror_mode": {
    "name": "ipython",
    "version": 3
   },
   "file_extension": ".py",
   "mimetype": "text/x-python",
   "name": "python",
   "nbconvert_exporter": "python",
   "pygments_lexer": "ipython3",
   "version": "3.13.1"
  }
 },
 "nbformat": 4,
 "nbformat_minor": 5
}
