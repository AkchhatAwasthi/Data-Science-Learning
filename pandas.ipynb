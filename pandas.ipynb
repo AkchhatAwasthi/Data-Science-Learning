{
 "cells": [
  {
   "cell_type": "code",
   "execution_count": 4,
   "id": "ddde8fc2-c9e0-4d42-9e8b-344dbbdb2619",
   "metadata": {},
   "outputs": [],
   "source": [
    "import pandas as pd\n",
    "import numpy as np\n"
   ]
  },
  {
   "cell_type": "code",
   "execution_count": 5,
   "id": "6f4b9722-f1de-425a-aea6-bb21f5913b13",
   "metadata": {},
   "outputs": [],
   "source": [
    "a=pd.Series([10])"
   ]
  },
  {
   "cell_type": "code",
   "execution_count": 6,
   "id": "4832d8fd-615b-4b90-b42c-0f8a00d1b5f8",
   "metadata": {},
   "outputs": [
    {
     "data": {
      "text/plain": [
       "0    10\n",
       "dtype: int64"
      ]
     },
     "execution_count": 6,
     "metadata": {},
     "output_type": "execute_result"
    }
   ],
   "source": [
    "a"
   ]
  },
  {
   "cell_type": "code",
   "execution_count": null,
   "id": "74eb7de0-24d8-4df3-9f61-3d61dcb3f1fb",
   "metadata": {},
   "outputs": [],
   "source": []
  }
 ],
 "metadata": {
  "kernelspec": {
   "display_name": "Python 3 (ipykernel)",
   "language": "python",
   "name": "python3"
  },
  "language_info": {
   "codemirror_mode": {
    "name": "ipython",
    "version": 3
   },
   "file_extension": ".py",
   "mimetype": "text/x-python",
   "name": "python",
   "nbconvert_exporter": "python",
   "pygments_lexer": "ipython3",
   "version": "3.13.1"
  }
 },
 "nbformat": 4,
 "nbformat_minor": 5
}
